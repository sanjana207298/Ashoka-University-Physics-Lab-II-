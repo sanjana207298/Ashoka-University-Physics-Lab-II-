{
  "nbformat": 4,
  "nbformat_minor": 0,
  "metadata": {
    "colab": {
      "provenance": []
    },
    "kernelspec": {
      "name": "python3",
      "display_name": "Python 3"
    },
    "language_info": {
      "name": "python"
    }
  },
  "cells": [
    {
      "cell_type": "code",
      "execution_count": null,
      "metadata": {
        "id": "sm-DOcKv2eeg"
      },
      "outputs": [],
      "source": [
        "import numpy as np\n",
        "import matplotlib.pyplot as plt\n",
        "import statistics\n",
        "plt.rcParams [\"font.family\"] = \"Times New Roman\""
      ]
    },
    {
      "cell_type": "markdown",
      "source": [
        "PART A"
      ],
      "metadata": {
        "id": "LYDMteNQjp1k"
      }
    },
    {
      "cell_type": "code",
      "source": [
        "#l = np.array([0.55,0.50,0.45,0.42,0.37,0.35,0.33,0.31,0.29,0.27,0.25,0.20,0.15,0.10,0.05, -0.05, -0.10,-0.15,-0.20,-0.25,-0.27,-0.29,-0.31,-0.33,-0.35,-0.37,-0.42,-0.45,-0.50,-0.55])\n",
        "#T1 = np.array([1.744,1.7177,1.692,1.678,1.6584,1.6339,1.6576,1.6441,1.6703,1.6666,1.7048,1.7762,1.9287,2.261,3.010, 3.0186, 2.2604, 1.9309,1.7819,1.7035,1.6747,1.6678,1.6492,1.6438,1.6412,1.6547,1.6651,1.6823,1.7101,1.7586])\n",
        "#plt.scatter(l,T1)"
      ],
      "metadata": {
        "id": "QxICcZ8d2mb4"
      },
      "execution_count": null,
      "outputs": []
    },
    {
      "cell_type": "code",
      "source": [
        "l1 = np.array([0.55,0.50,0.45,0.42,0.37,0.35,0.33,0.31,0.29,0.27,0.25,0.20,0.15,0.10,0.05])\n",
        "l2 = np.array([-0.05, -0.10,-0.15,-0.20,-0.25,-0.27,-0.29,-0.31,-0.33,-0.35,-0.37,-0.42,-0.45,-0.50,-0.55])\n",
        "t1 = np.array([1.744,1.7177,1.692,1.678,1.6531,1.6413,1.6425,1.6484,1.6703,1.6742,1.7048,1.7762,1.9287,2.261,3.010])\n",
        "t2 = np.array([3.0186, 2.2604, 1.9309,1.7819,1.7035,1.6747,1.6678,1.6492,1.6438,1.6412,1.6547,1.6651,1.6823,1.7101,1.7586])"
      ],
      "metadata": {
        "id": "z6Ap6jcui5zc"
      },
      "execution_count": null,
      "outputs": []
    },
    {
      "cell_type": "code",
      "source": [
        "g = 9.79173 # value of g at Sonepat\n",
        "M = 1 #kg\n",
        "L = 1.2 #m\n",
        "R = 0.003 #m\n",
        "I1 = ((M*(R**2))/4) + ((M*(L**2))/3) + (M*(l1**2))\n",
        "k1 = I1/M\n",
        "tn1 = 2*np.pi*(np.sqrt(abs(((k1**2)+(l1**2))/g*l1)))\n",
        "I2 = ((M*(R**2))/4) + ((M*(L**2))/3) + (M*(l2**2))\n",
        "k2 = I2/M\n",
        "tn2 = 2*np.pi*(np.sqrt(abs(((k2**2)+(l2**2))/g*l2)))"
      ],
      "metadata": {
        "id": "ydgupTjWlcYO"
      },
      "execution_count": null,
      "outputs": []
    },
    {
      "cell_type": "code",
      "source": [
        "plt.scatter(l1,t1)\n",
        "plt.scatter(l2,t2)\n",
        "#plt.plot(l1,tn1)\n",
        "#plt.plot(l2,tn2)\n",
        "plt.xlabel('Distance from the centre of mass (m)')\n",
        "plt.ylabel('Time Period (s)')\n",
        "plt.show()"
      ],
      "metadata": {
        "colab": {
          "base_uri": "https://localhost:8080/",
          "height": 279
        },
        "id": "OHfrYK4wjVA5",
        "outputId": "334e3cfe-0676-4712-c9a4-720ef84f75c4"
      },
      "execution_count": null,
      "outputs": [
        {
          "output_type": "display_data",
          "data": {
            "text/plain": [
              "<Figure size 432x288 with 1 Axes>"
            ],
            "image/png": "[encoded data removed]"
          },
          "metadata": {
            "needs_background": "light"
          }
        }
      ]
    },
    {
      "cell_type": "markdown",
      "source": [
        "PART B"
      ],
      "metadata": {
        "id": "jF5Tgu_xjlLX"
      }
    },
    {
      "cell_type": "code",
      "source": [
        "T = np.array([1.7809, 1.7728, 1.7731, 1.7729, 1.7727, 1.7733, 1.7735, 1.7725, 1.7736, 1.7729])\n",
        "g = (4*np.pi*np.pi*0.78)/(T**2)\n",
        "print(g)"
      ],
      "metadata": {
        "colab": {
          "base_uri": "https://localhost:8080/"
        },
        "id": "0Xb-4r5kf9Y0",
        "outputId": "6e4621be-59d3-41db-b93d-45b7314185ed"
      },
      "execution_count": null,
      "outputs": [
        {
          "output_type": "stream",
          "name": "stdout",
          "text": [
            "[9.70901723 9.79794175 9.7946265  9.79683648 9.79904721 9.79241727\n",
            " 9.79020879 9.80125868 9.78910483 9.79683648]\n"
          ]
        }
      ]
    },
    {
      "cell_type": "code",
      "source": [
        "Tvalues = [1.7809, 1.7728, 1.7731, 1.7729, 1.7727, 1.7733, 1.7735, 1.7725, 1.7736, 1.7729]\n",
        "TsumOfNums = 0\n",
        "Tcount = 0\n",
        "for Tnumber in Tvalues:\n",
        "    TsumOfNums += Tnumber\n",
        "    Tcount += 1\n",
        "Taverage = TsumOfNums / Tcount\n",
        "print(\"The average value of T is:\", Taverage)\n",
        "\n",
        "values = np.array([9.70901723, 9.79794175, 9.7946265,  9.79683648, 9.79904721, 9.79241727, 9.79020879, 9.80125868, 9.78910483, 9.79683648])\n",
        "sumOfNums = 0\n",
        "count = 0\n",
        "for number in values:\n",
        "    sumOfNums += number\n",
        "    count += 1\n",
        "average = sumOfNums / count\n",
        "print(\"The average value of g is:\", average)"
      ],
      "metadata": {
        "id": "4haZfdimQlAx",
        "colab": {
          "base_uri": "https://localhost:8080/"
        },
        "outputId": "41778949-ebcc-44e3-e40f-35552752be1b"
      },
      "execution_count": null,
      "outputs": [
        {
          "output_type": "stream",
          "name": "stdout",
          "text": [
            "The average value of T is: 1.77382\n",
            "The average value of g is: 9.786729521999998\n"
          ]
        }
      ]
    },
    {
      "cell_type": "code",
      "source": [
        "av = np.array([9.78672952, 9.78672952,9.78672952,9.78672952,9.78672952,9.78672952,9.78672952,9.78672952,9.78672952,9.78672952])\n",
        "dg = ([])\n",
        "for i in range(len(values)):\n",
        "   dg = av[i]-values[i]\n",
        "\n",
        "print(dg)\n",
        "\n",
        "gvalues = [ 0.07771229, 0.01121223, 0.00789698, 0.01010696, 0.01231769, 0.00568775, 0.00347927, 0.01452916, 0.00237531, 0.01010696]\n",
        "gsumOfNums = 0\n",
        "gcount = 0\n",
        "for gnumber in gvalues:\n",
        "    gsumOfNums += gnumber\n",
        "    gcount += 1\n",
        "gaverage = gsumOfNums / gcount\n",
        "print(\"The average value of g_abs is:\", gaverage)"
      ],
      "metadata": {
        "colab": {
          "base_uri": "https://localhost:8080/"
        },
        "id": "i_cG7zbRc_K7",
        "outputId": "87799810-91d3-47ca-e894-203ea8f56008"
      },
      "execution_count": null,
      "outputs": [
        {
          "output_type": "stream",
          "name": "stdout",
          "text": [
            "-0.010106959999999887\n",
            "The average value of g_abs is: 0.01554246\n"
          ]
        }
      ]
    },
    {
      "cell_type": "code",
      "source": [
        "standard_deviation = statistics.stdev(values)\n",
        "print(standard_deviation)\n",
        "plt.hist(values, bins = 10)\n",
        "plt.show()"
      ],
      "metadata": {
        "id": "QCtLrsBV8RQt",
        "colab": {
          "base_uri": "https://localhost:8080/",
          "height": 282
        },
        "outputId": "92b1ee30-c72c-4f9f-8fa1-9da46e07c563"
      },
      "execution_count": null,
      "outputs": [
        {
          "output_type": "stream",
          "name": "stdout",
          "text": [
            "0.027577159605678546\n"
          ]
        },
        {
          "output_type": "display_data",
          "data": {
            "text/plain": [
              "<Figure size 432x288 with 1 Axes>"
            ],
            "image/png": "[encoded data removed]"
          },
          "metadata": {
            "needs_background": "light"
          }
        }
      ]
    },
    {
      "cell_type": "code",
      "source": [],
      "metadata": {
        "id": "4eqVsTI3WIvt"
      },
      "execution_count": null,
      "outputs": []
    }
  ]
}